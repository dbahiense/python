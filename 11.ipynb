{
  "cells": [
    {
      "cell_type": "markdown",
      "metadata": {
        "id": "view-in-github",
        "colab_type": "text"
      },
      "source": [
        "<a href=\"https://colab.research.google.com/github/dbahiense/python/blob/main/11.ipynb\" target=\"_parent\"><img src=\"https://colab.research.google.com/assets/colab-badge.svg\" alt=\"Open In Colab\"/></a>"
      ]
    },
    {
      "cell_type": "markdown",
      "metadata": {
        "id": "RnLLawhe-enE"
      },
      "source": [
        "# <font color=\"red\"> MBA em IA e Big Data</font>\n",
        "## <span style=\"color:red\">Linguagens e Ferramentas para Inteligência Artificial e Big Data (Python e SQL)</span>\n",
        "\n",
        "### <span style=\"color:darkred\">Python: coleções aninhadas, comprehension e expressões lambda</span>\n",
        "\n",
        "*Moacir Antonelli Ponti*<br>\n",
        "*ICMC/USP São Carlos*\n",
        "\n",
        "---\n",
        "__Conteúdo:__\n",
        "- Coleções aninhadas\n",
        "- Comprehensions\n",
        "- Expressões lambda"
      ]
    },
    {
      "cell_type": "markdown",
      "metadata": {
        "id": "qI3vC9GN-enM"
      },
      "source": [
        "# Coleções aninhadas\n",
        "\n",
        "Listas, tuplas, dicionários, e outros podem ser aninhados\n",
        "\n",
        "#### Lista de tuplas"
      ]
    },
    {
      "cell_type": "code",
      "execution_count": 1,
      "metadata": {
        "colab": {
          "base_uri": "https://localhost:8080/"
        },
        "id": "gDzpWiQA-enQ",
        "outputId": "8be6f3ce-1224-4311-be21-2d577f4a4f00"
      },
      "outputs": [
        {
          "output_type": "stream",
          "name": "stdout",
          "text": [
            "[(640, 'morango', 25.0), (201, 'banana', 4.99), (452, 'seriguela', 9.99), (330, 'melancia', 2.5)]\n"
          ]
        }
      ],
      "source": [
        "# tuplas como registros indicando frutas: código identificador, nome e preço por kilo\n",
        "fruta1 = (640, 'morango', 25.0)\n",
        "fruta2 = (201, 'banana', 4.99)\n",
        "fruta3 = (452, 'seriguela', 9.99)\n",
        "fruta4 = (330, 'melancia', 2.50)\n",
        "\n",
        "lista = [fruta1, fruta2, fruta3, fruta4]\n",
        "print(lista)"
      ]
    },
    {
      "cell_type": "code",
      "execution_count": 2,
      "metadata": {
        "colab": {
          "base_uri": "https://localhost:8080/"
        },
        "id": "pWV95A8P-enY",
        "outputId": "d8e10d48-af4f-4de2-f0b7-c00b987aad1b"
      },
      "outputs": [
        {
          "output_type": "execute_result",
          "data": {
            "text/plain": [
              "(330, 'melancia', 2.5)"
            ]
          },
          "metadata": {},
          "execution_count": 2
        }
      ],
      "source": [
        "lista[-1]"
      ]
    },
    {
      "cell_type": "markdown",
      "metadata": {
        "id": "RhDMKZJ8-end"
      },
      "source": [
        "Permite usar os benefícios da lista, enquanto mantendo tuplas como registros"
      ]
    },
    {
      "cell_type": "code",
      "execution_count": 3,
      "metadata": {
        "colab": {
          "base_uri": "https://localhost:8080/"
        },
        "id": "6cwsxbFw-enf",
        "outputId": "cb4faae5-b416-4318-f211-8178d4e05284"
      },
      "outputs": [
        {
          "output_type": "stream",
          "name": "stdout",
          "text": [
            "[(201, 'banana', 4.99), (202, 'maçã', 6.95), (330, 'melancia', 2.5), (452, 'seriguela', 9.99), (640, 'morango', 25.0)]\n"
          ]
        }
      ],
      "source": [
        "lista.append((202, 'maçã', 6.95))\n",
        "lista.sort()\n",
        "print(lista)"
      ]
    },
    {
      "cell_type": "markdown",
      "metadata": {
        "id": "dsP3hbMJ-enl"
      },
      "source": [
        "### Lista de listas"
      ]
    },
    {
      "cell_type": "code",
      "execution_count": 4,
      "metadata": {
        "colab": {
          "base_uri": "https://localhost:8080/"
        },
        "id": "Xni8XCKM-eno",
        "outputId": "4bbd4e4d-13b8-4fb0-b264-40995a2a7fc4"
      },
      "outputs": [
        {
          "output_type": "stream",
          "name": "stdout",
          "text": [
            "[[9.5, 8.0, 10.0, 7.0], [1.5, 5.0, 5.5, 6.8, 8.0, 9.5, 9.5, 10.0, 1.0]]\n",
            "[[9.5, 8.0, 10.0, 7.0], [1.5, 5.0, 5.5, 6.8, 8.0, 9.5, 9.5, 10.0, 1.0], [5.5, 7.0, 8.0, 6.0, 0.0, 3.5]]\n",
            "[[9.5, 8.0, 10.0, 7.0], [1.5, 5.0, 5.5, 6.8, 8.0, 9.5, 9.5, 10.0, 1.0], [5.5, 7.0, 8.0, 6.0, 0.0, 3.5], [10.0, 7.5, 8.0, 9.0, 4.0, 6.0, 6.5]]\n"
          ]
        }
      ],
      "source": [
        "# listas com notas de turmas de alunos\n",
        "turma1 = [9.5, 8.0, 10.0, 7.0]\n",
        "turma2 = [1.5, 5.0, 5.5, 6.8, 8.0, 9.5, 9.5, 10.0, 1.0]\n",
        "turma3 = [5.5, 7.0, 8.0, 6.0, 0.0, 3.5]\n",
        "turma4 = [10.0, 7.5, 8.0, 9.0, 4.0, 6.0, 6.5]\n",
        "\n",
        "notas = [turma1, turma2]\n",
        "print(notas)\n",
        "notas = notas + [turma3]\n",
        "print(notas)\n",
        "notas.append(turma4)\n",
        "print(notas)"
      ]
    },
    {
      "cell_type": "markdown",
      "metadata": {
        "id": "kql7njoe-ent"
      },
      "source": [
        "#### Aninhando dicionários e listas"
      ]
    },
    {
      "cell_type": "code",
      "execution_count": 5,
      "metadata": {
        "id": "7rJE79ej-enx"
      },
      "outputs": [],
      "source": [
        "notas = {\n",
        "    'Python': { 2020: [9.5, 8.0, 10.0, 5.0, 6.0, 6.0],\n",
        "                2021: [8.2, 10.0, 10.0, 9.0, 7.5, 7.0, 10.0] },\n",
        "    'Redes Neurais': { 2019: [8.0, 9.8, 10.0, 0.0, 8.2, 7.5, 7.5],\n",
        "                       2020: [9.0, 7.2, 9.0, 8.0, 6.3, 7.0],\n",
        "                       2021: [10.0, 7.5, 8.0, 9.0, 7.0, 7.3, 6.5] }\n",
        "}"
      ]
    },
    {
      "cell_type": "code",
      "execution_count": 6,
      "metadata": {
        "colab": {
          "base_uri": "https://localhost:8080/"
        },
        "id": "uYd6P27i-en3",
        "outputId": "9443d822-e5e7-436e-c6dc-25c0584ece19"
      },
      "outputs": [
        {
          "output_type": "execute_result",
          "data": {
            "text/plain": [
              "{2020: [9.5, 8.0, 10.0, 5.0, 6.0, 6.0],\n",
              " 2021: [8.2, 10.0, 10.0, 9.0, 7.5, 7.0, 10.0]}"
            ]
          },
          "metadata": {},
          "execution_count": 6
        }
      ],
      "source": [
        "notas['Python']"
      ]
    },
    {
      "cell_type": "code",
      "execution_count": 7,
      "metadata": {
        "colab": {
          "base_uri": "https://localhost:8080/"
        },
        "id": "6f_ofiWC-en7",
        "outputId": "3523e56f-fd18-428b-bec7-0c215b501f52"
      },
      "outputs": [
        {
          "output_type": "execute_result",
          "data": {
            "text/plain": [
              "4041"
            ]
          },
          "metadata": {},
          "execution_count": 7
        }
      ],
      "source": [
        "sum(notas['Python'])"
      ]
    },
    {
      "cell_type": "code",
      "execution_count": 8,
      "metadata": {
        "colab": {
          "base_uri": "https://localhost:8080/"
        },
        "id": "QS8wZi---en_",
        "outputId": "d211bc3a-6c24-4312-e9ca-65c58180d09c"
      },
      "outputs": [
        {
          "output_type": "execute_result",
          "data": {
            "text/plain": [
              "dict"
            ]
          },
          "metadata": {},
          "execution_count": 8
        }
      ],
      "source": [
        "type(notas['Python'])"
      ]
    },
    {
      "cell_type": "code",
      "execution_count": 9,
      "metadata": {
        "colab": {
          "base_uri": "https://localhost:8080/"
        },
        "id": "g2A37lm8-eoB",
        "outputId": "dcdfed5b-8310-45fc-f998-d9a0e91470a6"
      },
      "outputs": [
        {
          "output_type": "stream",
          "name": "stdout",
          "text": [
            "2019\n",
            "2020\n",
            "2021\n"
          ]
        }
      ],
      "source": [
        "for turma in notas['Redes Neurais']:\n",
        "    print(turma)"
      ]
    },
    {
      "cell_type": "code",
      "execution_count": 10,
      "metadata": {
        "colab": {
          "base_uri": "https://localhost:8080/"
        },
        "id": "Tvl2MzLA-eoE",
        "outputId": "9a528f58-af96-43d8-b994-f14ba32d839b"
      },
      "outputs": [
        {
          "output_type": "stream",
          "name": "stdout",
          "text": [
            "2019 - Menor nota: 0.0\n",
            "2020 - Menor nota: 6.3\n",
            "2021 - Menor nota: 6.5\n"
          ]
        }
      ],
      "source": [
        "for turma in notas['Redes Neurais'].items():\n",
        "    print(turma[0], '- Menor nota:', min(turma[1]))"
      ]
    },
    {
      "cell_type": "markdown",
      "metadata": {
        "id": "iK2VJpfA-eoI"
      },
      "source": [
        "# Comprehension\n",
        " \n",
        "Recurso que permite aplicar uma operação *para cada item de uma sequência* de forma eficiente. \n",
        "\n",
        "A sintaxe de um comprehension é:\n",
        "```\n",
        "lista = [expressao for variavel_local in objeto]\n",
        "```\n",
        "O resultado é equivalente a:\n",
        "```\n",
        "lista = []\n",
        "for variavel_local in objeto:\n",
        "    lista.append(expressao)\n",
        "```\n",
        "\n",
        "Porém, comprehension é executado de forma muito mais rápida. \n",
        "\n",
        "Tipicamente se emprega *comprehension* para construir listas ou dicionários.\n",
        "\n",
        "---\n",
        "\n",
        "Exemplo: criar uma lista com os valores entre -50 e 50 ao quadrado"
      ]
    },
    {
      "cell_type": "code",
      "execution_count": 11,
      "metadata": {
        "colab": {
          "base_uri": "https://localhost:8080/"
        },
        "id": "A-1G05nC-eoL",
        "outputId": "333f3713-a96e-4ebf-8a89-eeac77d07986"
      },
      "outputs": [
        {
          "output_type": "stream",
          "name": "stdout",
          "text": [
            "10000 loops, best of 5: 37.1 µs per loop\n"
          ]
        }
      ],
      "source": [
        "%%timeit\n",
        "quadr = [x**2 for x in range(-50,51)]"
      ]
    },
    {
      "cell_type": "markdown",
      "metadata": {
        "id": "VLgqFZ80-eoR"
      },
      "source": [
        "* `range(-50,51)` gera um intervalo entre -50 e 50\n",
        "* comprehension eleva ao quadrado cada número `x` nesse intervalo\n",
        "* o resultado é armazenado na lista `quadr`"
      ]
    },
    {
      "cell_type": "code",
      "execution_count": 12,
      "metadata": {
        "colab": {
          "base_uri": "https://localhost:8080/",
          "height": 167
        },
        "id": "bFB8OigZ-eoT",
        "outputId": "7edd0220-f6b8-42ad-e9c1-f12732542320"
      },
      "outputs": [
        {
          "output_type": "error",
          "ename": "NameError",
          "evalue": "ignored",
          "traceback": [
            "\u001b[0;31m---------------------------------------------------------------------------\u001b[0m",
            "\u001b[0;31mNameError\u001b[0m                                 Traceback (most recent call last)",
            "\u001b[0;32m<ipython-input-12-437929b08a5c>\u001b[0m in \u001b[0;36m<module>\u001b[0;34m()\u001b[0m\n\u001b[0;32m----> 1\u001b[0;31m \u001b[0mprint\u001b[0m\u001b[0;34m(\u001b[0m\u001b[0mquadr\u001b[0m\u001b[0;34m)\u001b[0m\u001b[0;34m\u001b[0m\u001b[0;34m\u001b[0m\u001b[0m\n\u001b[0m",
            "\u001b[0;31mNameError\u001b[0m: name 'quadr' is not defined"
          ]
        }
      ],
      "source": [
        "print(quadr)"
      ]
    },
    {
      "cell_type": "code",
      "execution_count": null,
      "metadata": {
        "id": "15g92SbF-eoW"
      },
      "outputs": [],
      "source": [
        "%%timeit\n",
        "quadr_for = []\n",
        "for x in range(-50,51):\n",
        "    quadr_for.append(x**2)"
      ]
    },
    {
      "cell_type": "code",
      "execution_count": null,
      "metadata": {
        "id": "tF2X-UaE-eoY"
      },
      "outputs": [],
      "source": [
        "print(quadr_for)"
      ]
    },
    {
      "cell_type": "markdown",
      "metadata": {
        "id": "sipkzLYN-eoa"
      },
      "source": [
        "Podemos compará-los com o comando `%%timeit`"
      ]
    },
    {
      "cell_type": "markdown",
      "metadata": {
        "id": "OHbVoR3b-eod"
      },
      "source": [
        "> É possível omitir a variável local caso essa não seja necessária."
      ]
    },
    {
      "cell_type": "code",
      "execution_count": null,
      "metadata": {
        "id": "V68rhA86-eog"
      },
      "outputs": [],
      "source": [
        "import random as rd\n",
        "\n",
        "n = 20\n",
        "rand_num = [rd.randint(1,100) for _ in range(n)]\n",
        "print(rand_num)"
      ]
    },
    {
      "cell_type": "code",
      "execution_count": null,
      "metadata": {
        "id": "qQDnLnA7-eoj"
      },
      "outputs": [],
      "source": [
        "x = 4.36363\n",
        "print(round(x,4))"
      ]
    },
    {
      "cell_type": "markdown",
      "metadata": {
        "id": "0xzZRE_o-eol"
      },
      "source": [
        "---\n",
        "\n",
        "#### <font color=\"blue\">Exercício 2.1 </font>\n",
        "\n",
        "Codifique uma função que use comprehension para retornar uma lista com `n` valores numéricos iniciando em 0 e  com passo `p` permitindo um número float como passo. Arredonde cada número para 5 casas decimais usando a função `round(,5)`\n",
        "\n",
        "Exemplo para n=8, p=0.05\n",
        "```\n",
        "[0.0, 0.05, 0.1, 0.15, 0.2, 0.25, 0.3, 0.35, 0.4]\n",
        "```"
      ]
    },
    {
      "cell_type": "code",
      "execution_count": null,
      "metadata": {
        "id": "dxXOFhSg-eol"
      },
      "outputs": [],
      "source": [
        ""
      ]
    },
    {
      "cell_type": "markdown",
      "metadata": {
        "id": "f0wYhthe-eon"
      },
      "source": [
        "---\n",
        "## Compreehension com filtragem\n",
        "\n",
        "Combinado com `if` permite filtrar a sequência gerada\n",
        "```python\n",
        "variavel = [expressao for variavel_local in objeto if condicao]\n",
        "```\n",
        "\n",
        "O código acima é equivalente a:\n",
        "```\n",
        "variavel=[]\n",
        "for variavel_local in objeto:\n",
        "    if condicao:\n",
        "        variavel.append(expressao)\n",
        "```"
      ]
    },
    {
      "cell_type": "markdown",
      "metadata": {
        "id": "UdQ01RE5-eoo"
      },
      "source": [
        "Gerar o quadrado dos números entre -20 e 20, e montar uma lista apenas com os números ímpares resultantes"
      ]
    },
    {
      "cell_type": "code",
      "execution_count": null,
      "metadata": {
        "id": "BWfAT3mg-eoq"
      },
      "outputs": [],
      "source": [
        "l = [x**2 for x in range(-20,21) if (x**2)%2 != 0]\n",
        "print(l)"
      ]
    },
    {
      "cell_type": "markdown",
      "metadata": {
        "id": "DjLMfqcJ-eot"
      },
      "source": [
        "Notar que ali a condição se refere à variável local `x`"
      ]
    },
    {
      "cell_type": "markdown",
      "metadata": {
        "id": "-Had_CbM-eov"
      },
      "source": [
        "#### Iterando por coleções\n",
        "\n",
        "Vamos criar uma coleção de disciplinas com nome e crédito"
      ]
    },
    {
      "cell_type": "code",
      "execution_count": null,
      "metadata": {
        "id": "yvooY4cN-eow"
      },
      "outputs": [],
      "source": [
        "disciplinas = [('Programação', 4), ('Cálculo',4), ('Isostática',2), ('Semicondutores', 2),\n",
        "               ('Manufatura Discreta',2), ('Análise real', 4), ('Seminários', 1), \n",
        "               ('Processamento de Imagens', 3)]"
      ]
    },
    {
      "cell_type": "code",
      "execution_count": null,
      "metadata": {
        "id": "iY3MbFWR-eox"
      },
      "outputs": [],
      "source": [
        "mincred = 3\n",
        "\n",
        "disciplinas_mincred = [(nome,cred) for (nome,cred) in disciplinas if cred >= mincred]\n",
        "print(disciplinas_mincred)"
      ]
    },
    {
      "cell_type": "code",
      "execution_count": null,
      "metadata": {
        "id": "IDFIZ0H9-eoz"
      },
      "outputs": [],
      "source": [
        "disciplinas_mincred_for = list()\n",
        "for (nome,cred) in disciplinas:\n",
        "    if (cred >= mincred):\n",
        "        disciplinas_mincred_for.append((nome,cred))\n",
        "print(disciplinas_mincred_for)        "
      ]
    },
    {
      "cell_type": "code",
      "execution_count": null,
      "metadata": {
        "id": "_QEQ_F3d-eo2"
      },
      "outputs": [],
      "source": [
        "disciplinas_mincred == disciplinas_mincred_for"
      ]
    },
    {
      "cell_type": "markdown",
      "metadata": {
        "id": "5hfKDqL6-eo4"
      },
      "source": [
        "### Usando `if-else`\n",
        "\n",
        "Podemos usar `else` mas nesse caso a estrutura deve vir **antes** do `for`:\n",
        "\n",
        "```python\n",
        "variavel = [<expressao> if <condicao> else <expressao_se_falso> for <variavel_local> in <objeto>]\n",
        "```"
      ]
    },
    {
      "cell_type": "markdown",
      "metadata": {
        "id": "-MF4-oeK-eo6"
      },
      "source": [
        "> É útil quando temos um valor para substituir no caso em que a condição é falsa"
      ]
    },
    {
      "cell_type": "code",
      "execution_count": null,
      "metadata": {
        "id": "g5Z7K5J6-eo-"
      },
      "outputs": [],
      "source": [
        "# computando o quadrado dos números entre -20 e 20. Se o resultado for par, substituir por -1\n",
        "l = [x**2 if (x**2)%2!=0 else -1 for x in range(-20,21)]\n",
        "print(l)"
      ]
    },
    {
      "cell_type": "markdown",
      "metadata": {
        "id": "z53zCtox-epA"
      },
      "source": [
        "---\n",
        "\n",
        "**<font color=\"blue\">Exercício 2.2</font>**\n",
        "A partir de um vetor com números inteiros aleatórios, calcular seu `log` e criar uma lista com o resultado.\n",
        "* se o número for 0 substituir o valor por `nan` (not a number) da biblioteca `math` para indicar que o resultado não é numérico"
      ]
    },
    {
      "cell_type": "code",
      "execution_count": null,
      "metadata": {
        "id": "LqKnUiAz-epD"
      },
      "outputs": [],
      "source": [
        "import random as rd\n",
        "\n",
        "n = 25\n",
        "rand_num = [rd.randint(0,10) for _ in range(n)]\n",
        "print(rand_num)"
      ]
    },
    {
      "cell_type": "code",
      "execution_count": null,
      "metadata": {
        "id": "qFxVQ03C-epG"
      },
      "outputs": [],
      "source": [
        ""
      ]
    },
    {
      "cell_type": "markdown",
      "metadata": {
        "id": "zUyZKl1c-epH"
      },
      "source": [
        "## Comprehensions com iteração paralela em diferentes coleções\n",
        "\n",
        "Aninhando comprehensions:\n",
        "```\n",
        "lista = [<expressao> for <var1, var2, ...> in zip(<colecao1>, <colecao2>, ...)]\n",
        "```\n",
        "O resultado do comando acima é equivalente a:\n",
        "```python\n",
        "lista = []\n",
        "for <var1, var2, ...> in zip(<colecao1>, <colecao2>, ...)\n",
        "    lista.append(expressao)\n",
        "```"
      ]
    },
    {
      "cell_type": "markdown",
      "metadata": {
        "id": "QqXghEIo-epK"
      },
      "source": [
        "Há várias situações em que é interessante percorrer duas coleções ou sequências\n",
        "\n",
        "Para isso podemos usar a função `zip()` em que passamos as sequencias para o zip que irá retornar um elemento de cada por vez\n",
        "\n",
        "```\n",
        "zip(seq1, seq2, ... seq2n)\n",
        "```"
      ]
    },
    {
      "cell_type": "code",
      "execution_count": null,
      "metadata": {
        "id": "Wl6oSOgu-epL"
      },
      "outputs": [],
      "source": [
        "l1 = list(range(1,10))\n",
        "l2 = list(range(0,26,2))\n",
        "t1 = tuple(range(10,100,10))\n",
        "\n",
        "print(l1)\n",
        "print(l2)\n",
        "print(t1)\n",
        "print()"
      ]
    },
    {
      "cell_type": "code",
      "execution_count": null,
      "metadata": {
        "id": "cjny-XfS-epN"
      },
      "outputs": [],
      "source": [
        "for i,j,t in zip(l1, l2, t1):\n",
        "    print(i,j,t)"
      ]
    },
    {
      "cell_type": "markdown",
      "metadata": {
        "id": "sBEMQYpX-epR"
      },
      "source": [
        "Note que a  `l2` possui mais elementos, nesse caso o `for` vai nivelar pela sequência de menor tamanho\n",
        "\n",
        "---\n",
        "Combinando com comprehensions, vamos usar essa idéia para percorrer duas listas e montar uma nova lista em que copiamos os elementos iguais, e atribuímos `False` nas posições em que as listas são diferentes"
      ]
    },
    {
      "cell_type": "code",
      "execution_count": null,
      "metadata": {
        "id": "norg4-3D-epS"
      },
      "outputs": [],
      "source": [
        "vals1 = [5, 5, 5, 1, 2, 3, 4, 6, 7, 7]\n",
        "vals2 = [5, 5, 5, 1, 2, 4, 4, 6, 6, 7]\n",
        "\n",
        "equal_pos = [x if x == y else False for (x,y) in zip(vals1, vals2)]\n",
        "print(equal_pos)"
      ]
    },
    {
      "cell_type": "markdown",
      "metadata": {
        "id": "_R7-0cXR-epV"
      },
      "source": [
        "---\n",
        "\n",
        "**<font color=\"blue\">Exercício 2.3</font>**\n",
        "\n",
        "Codifique uma função que receba como argumento duas listas de números com o mesmo tamanho. Use comprehension para retornar uma nova lista que é a multiplicação elemento-a-elemento das duas listas.  Caso as listas não possuam o mesmo tamanho emita uma mensagem de erro e retorne a constante `math.nan` do módulo `math`.\n",
        "\n",
        "Exemplo:\n",
        "```\n",
        "l1 = [1, 2, 3, 4, 5]\n",
        "l2 = [5, 5, 5, 10, 10]\n",
        "multiplica_listas(l1,l2)\n",
        "\n",
        "  [5, 10, 15, 40, 50]\n",
        "```"
      ]
    },
    {
      "cell_type": "markdown",
      "metadata": {
        "id": "ve04TxyP-epX"
      },
      "source": [
        "---\n",
        "\n",
        "## Comprehensions Aninhados (Nested Loops)\n",
        "\n",
        "Aninhando comprehensions:\n",
        "```\n",
        "lista = [<expressao> for <var_local1> in <objeto1> if <condicao1>\n",
        "                        for <var_local2> in <objeto2> if <condicao2>]\n",
        "```\n",
        "O resultado do comando acima é equivalente a:\n",
        "```python\n",
        "lista=[]\n",
        "for var_local1 in objeto1:\n",
        "    if condicao1:\n",
        "        for var_local2 in objeto2:\n",
        "            if condicao2:\n",
        "                lista.append(expressao)\n",
        "```\n",
        "\n",
        "Uma aplicação é gerar o *produto cartesiano* entre duas coleções, ou seja, todas as combinações possíveis das duas coleções.\n",
        "\n",
        "Mais formalmente, se $A$ e $B$ são conjuntos, o seu produto cartesiano é o conjunto de todos os pares $(a,b)$ em que $a \\in A$ e $b \\in B$."
      ]
    },
    {
      "cell_type": "code",
      "execution_count": null,
      "metadata": {
        "id": "2SeB6ytk-epY"
      },
      "outputs": [],
      "source": [
        "A = ['a', 'b']\n",
        "B = [10, 20, 30]\n",
        "\n",
        "prod_cart = {(a,b) for a in A for b in B}\n",
        "print(\"Com comprehension:\", prod_cart)\n",
        "print(type(prod_cart))"
      ]
    },
    {
      "cell_type": "code",
      "execution_count": null,
      "metadata": {
        "id": "ZLZELFYa-epc"
      },
      "outputs": [],
      "source": [
        "# com for\n",
        "prod_cart_for = set()\n",
        "for a in A:\n",
        "    for b in B:\n",
        "        prod_cart_for.add((a,b))\n",
        "\n",
        "print(\"Com for:          \", prod_cart_for)"
      ]
    },
    {
      "cell_type": "markdown",
      "metadata": {
        "id": "Ri-czJhe-eph"
      },
      "source": [
        "#### Formando lista de listas\n",
        "\n",
        "O elemento do comprehension pode ser uma coleção por exemplo para montar uma lista usamos:"
      ]
    },
    {
      "cell_type": "code",
      "execution_count": null,
      "metadata": {
        "id": "4EVzDuX--epj"
      },
      "outputs": [],
      "source": [
        "lista1 = [x for x in range(1,6)]\n",
        "print(lista1)"
      ]
    },
    {
      "cell_type": "markdown",
      "metadata": {
        "id": "71XmMFae-epl"
      },
      "source": [
        "Inserindo esse comprehension num outro comprehension podemos repetí-lo"
      ]
    },
    {
      "cell_type": "code",
      "execution_count": null,
      "metadata": {
        "id": "-tD6kv79-epm"
      },
      "outputs": [],
      "source": [
        "lista_listas = [[x*l for x in range(1,6)] for l in range(1,4)]\n",
        "print(lista_listas)"
      ]
    },
    {
      "cell_type": "markdown",
      "metadata": {
        "id": "KVfAtRby-epp"
      },
      "source": [
        "Num cenário mais complexo, podemos querer formar uma lista de listas com um padrão, em que cada lista possui valores 0, exceto por um elemento igual a 1 que equivale a sua posição.\n",
        "\n",
        "\n",
        "Exemplo com 3 listas:\n",
        "```\n",
        "[[1, 0, 0],\n",
        " [0, 1, 0],\n",
        " [0, 0, 1]]\n",
        "```"
      ]
    },
    {
      "cell_type": "markdown",
      "metadata": {
        "id": "D7hazIpU-ept"
      },
      "source": [
        "Vamos começar produzindo apenas a primeira linha"
      ]
    },
    {
      "cell_type": "code",
      "execution_count": null,
      "metadata": {
        "id": "l32_wfTI-epv"
      },
      "outputs": [],
      "source": [
        "n = 3\n",
        "pos = 0\n",
        "linha = [1 if x == pos else 0 for x in range(n)]\n",
        "print(linha)"
      ]
    },
    {
      "cell_type": "markdown",
      "metadata": {
        "id": "v3lxl05V-epx"
      },
      "source": [
        "Agora, como aninhar isso num outro comprehension que permita mudar a a posição?"
      ]
    },
    {
      "cell_type": "code",
      "execution_count": null,
      "metadata": {
        "id": "bXXHbS65-epy"
      },
      "outputs": [],
      "source": [
        "n = 10\n",
        "linhas = [[1 if x == pos else 0 for x in range(n)] for pos in range(n)]\n",
        "\n",
        "for lin in linhas:\n",
        "    print(lin)\n"
      ]
    },
    {
      "cell_type": "markdown",
      "metadata": {
        "id": "k3RlVGTI-ep0"
      },
      "source": [
        "---\n",
        "\n",
        "#### <font color=\"blue\">Exercício 2.4 </font>\n",
        "\n",
        "Codifique uma comprehension que simule uma matriz de tamanho n x n, cujos elementos são dados por `(i+j*i)`, sendo `i` o índice da linha e `j` o índice da coluna. Para simular isso com uma lista de listas, o `i` corresponde ao índice da lista principal e o `j` aos índices das listas aninhadas.\n",
        "\n",
        "Por exemplo, seja a segunda lista (posição i=1), o seu terceiro elemento (posição j=2) seria obtido por `1+2*1 = 3`\n",
        "\n",
        "Exemplo com n = 3:\n",
        "```\n",
        "  [[0, 0, 0],\n",
        "   [1, 2, 3],\n",
        "   [2, 4, 6]] \n",
        "```"
      ]
    },
    {
      "cell_type": "markdown",
      "metadata": {
        "id": "v-vFW0zZ-ep3"
      },
      "source": [
        "---\n",
        "\n",
        "####  <font color=\"red\">Desafio</font>\n",
        "\n",
        "Temos uma série de pontos 3D organizados numa lista e gostaríamos de computar as distâncias entre todos os pontos pareados.\n",
        "\n",
        "Calcular a distância entre dois pontos $p1 = (x_1,y_1,z_1)$ e  $p2 = (x_2,y_2,z_2)$ usando a fórmula\n",
        "\n",
        "$$d(p1,p2) = |x_1 - x_2| +|y_1 - y_2| + |z_1 - z_2|,$$\n",
        "em que $|.|$ representa o valor absoluto.\n",
        "\n",
        "Exemplo com 2 pontos organizados em listas:\n",
        "```\n",
        "[[1.0, 1.0, 1.0],\n",
        " [3.0, 3.0, 3.0]]\n",
        "```\n",
        "\n",
        "A saída deve ser:\n",
        "```\n",
        "[[0.0, 6.0],\n",
        " [6.0, 0.0]]\n",
        "```\n",
        "\n",
        "Note que a diagonal principal tem sempre valor zero já que representa a distância de um ponto para ele mesmo, e que a matriz é simétrica pois a distância entre dois pontos p1 e p2 é tal que: d(p1,p2) = d(p2,p1).\n",
        "\n",
        "Para isso utilize uma única linha contendo comprehensions aninhadas e com iteração em paralelo"
      ]
    },
    {
      "cell_type": "code",
      "execution_count": null,
      "metadata": {
        "id": "JPpjVwZE-ep6"
      },
      "outputs": [],
      "source": [
        "from math import fabs, fsum\n",
        "\n",
        "pontos3d = [ [1.0, 1.0, 1.0],\n",
        "             [0.0, 1.0, 3.0],\n",
        "             [2.0, 2.0, 2.0],\n",
        "             [0.0, 0.0, 0.0] ]"
      ]
    },
    {
      "cell_type": "markdown",
      "metadata": {
        "id": "9G-NUKEv-ep9"
      },
      "source": [
        "---\n",
        "# Expressões Lambda\n",
        " \n",
        "Funções **anônimas** que podem ser usadas como *expressão*.\n",
        "\n",
        "\n",
        "* por ser expressão, não declaração, pode ser usada quando `def` não é possível, por exemplo dentro de um comprehension. \n",
        "\n",
        "Sintaxe:\n",
        "```python\n",
        "lambda <arg1>, <arg2>, ..., <argn>: <expressao>\n",
        "```\n",
        "A `expressao` será o valor de retorno\n",
        "\n",
        "Um exemplo simples, em que desejamos elevar um número ao quadrado"
      ]
    },
    {
      "cell_type": "code",
      "execution_count": null,
      "metadata": {
        "id": "DuICLiSb-ep-"
      },
      "outputs": [],
      "source": [
        "def quadrado(x):\n",
        "    return x**2\n",
        "\n",
        "quadrado(6)"
      ]
    },
    {
      "cell_type": "markdown",
      "metadata": {
        "id": "5lp9l12J-eqA"
      },
      "source": [
        "Usando uma expressão lambda utilizaríamos"
      ]
    },
    {
      "cell_type": "code",
      "execution_count": null,
      "metadata": {
        "id": "XLD1fPGw-eqB"
      },
      "outputs": [],
      "source": [
        "lambda x: x**2"
      ]
    },
    {
      "cell_type": "markdown",
      "metadata": {
        "id": "Rwl875YJ-eqD"
      },
      "source": [
        "Mas sendo **anônima** não é possível invocá-la diretamente, precisamos associá-la a um objeto"
      ]
    },
    {
      "cell_type": "code",
      "execution_count": null,
      "metadata": {
        "id": "ViXK4gHv-eqF"
      },
      "outputs": [],
      "source": [
        "fquad = lambda x: x**2\n",
        "\n",
        "fquad(6)"
      ]
    },
    {
      "cell_type": "markdown",
      "metadata": {
        "id": "M8zGDIfy-eqG"
      },
      "source": [
        "**Exemplos** de aplicação incluem seu **uso dentro de comprehensions**\n",
        "\n",
        "Abaixo um comprehension para avaliar uma lista de números inteiros e criar uma lista contendo 'even' para números pares e 'odd' para números ímpares"
      ]
    },
    {
      "cell_type": "code",
      "execution_count": null,
      "metadata": {
        "id": "bRQCeThU-eqI"
      },
      "outputs": [],
      "source": [
        "# retorna 'even' para x par e 'odd' para x ímpar\n",
        "f = lambda x: 'even' if (x%2 == 0) else 'odd'\n",
        "\n",
        "print(3, f(3))\n",
        "print(10, f(10))"
      ]
    },
    {
      "cell_type": "code",
      "execution_count": null,
      "metadata": {
        "id": "h99MtwtA-eqK"
      },
      "outputs": [],
      "source": [
        "lista_numeros = [1, 1, 2, 2, 10, 11, 12, 13]\n",
        "\n",
        "odd_or_even = [f(i) for i in lista_numeros]\n",
        "print(odd_or_even)"
      ]
    },
    {
      "cell_type": "code",
      "execution_count": null,
      "metadata": {
        "id": "R5xtC-6--eqN"
      },
      "outputs": [],
      "source": [
        "filter_odd = [i for i in lista_numeros if f(i) == 'odd']\n",
        "print(filter_odd)"
      ]
    },
    {
      "cell_type": "markdown",
      "metadata": {
        "id": "wH1UM22c-eqQ"
      },
      "source": [
        "---\n",
        "### Expressão lambda como parte de argumento para função\n",
        "\n",
        "Em algumas funções podemos passar por argumento uma expressão.\n",
        "\n",
        "Por exemplo ao ordenar elementos numa lista"
      ]
    },
    {
      "cell_type": "code",
      "execution_count": null,
      "metadata": {
        "id": "YJw-Uf6i-eqR"
      },
      "outputs": [],
      "source": [
        "cientistas_da_computacao = ['Betty Holberton', 'Alan Turing', 'Dennis Ritchie', 'Grace Hopper']\n",
        "\n",
        "_ = [print(i) for i in cientistas_da_computacao]"
      ]
    },
    {
      "cell_type": "code",
      "execution_count": null,
      "metadata": {
        "id": "pGVM35Pn-eqT"
      },
      "outputs": [],
      "source": [
        "cientistas_da_computacao.sort()\n",
        "print(cientistas_da_computacao)"
      ]
    },
    {
      "cell_type": "markdown",
      "metadata": {
        "id": "GOpDaSHN-eqU"
      },
      "source": [
        "Gostaríamos de ordenar pelo sobrenome!\n",
        "\n",
        "O método `sort()` possui um argumento `key` para definir o critério de ordenação\n"
      ]
    },
    {
      "cell_type": "code",
      "execution_count": null,
      "metadata": {
        "id": "zdR4eSx6-eqV"
      },
      "outputs": [],
      "source": [
        "help(cientistas_da_computacao.sort)"
      ]
    },
    {
      "cell_type": "code",
      "execution_count": null,
      "metadata": {
        "id": "8Ti-tbxs-eqX"
      },
      "outputs": [],
      "source": [
        "# usando como chave o tamanho\n",
        "cientistas_da_computacao.sort(key=len)\n",
        "print(cientistas_da_computacao)"
      ]
    },
    {
      "cell_type": "markdown",
      "metadata": {
        "id": "wznRaaNu-eqb"
      },
      "source": [
        "Ou com uma **lambda expression** que retorne o último nome"
      ]
    },
    {
      "cell_type": "code",
      "execution_count": null,
      "metadata": {
        "id": "ibfBSV3V-eqd"
      },
      "outputs": [],
      "source": [
        "print(cientistas_da_computacao[0].split())"
      ]
    },
    {
      "cell_type": "code",
      "execution_count": null,
      "metadata": {
        "id": "JzZB_NEt-eqf"
      },
      "outputs": [],
      "source": [
        "print(cientistas_da_computacao[2].split()[-1].lower())"
      ]
    },
    {
      "cell_type": "code",
      "execution_count": null,
      "metadata": {
        "id": "aEvkEeE3-eqh"
      },
      "outputs": [],
      "source": [
        "cientistas_da_computacao.sort(key = lambda nome: nome.split()[-1].lower())\n",
        "print(cientistas_da_computacao)"
      ]
    },
    {
      "cell_type": "markdown",
      "metadata": {
        "id": "l9ISRm4Q-eqj"
      },
      "source": [
        "> Isso seria impossível usando `def`"
      ]
    },
    {
      "cell_type": "markdown",
      "metadata": {
        "id": "1i6Ykqlx-eqk"
      },
      "source": [
        "---\n",
        "\n",
        "#### <font color=\"blue\">Exercício 2.5</font>\n",
        "\n",
        "Escreva uma expressão lambda que permita receber uma string contendo duas palavras relativas ao nome de uma pessoa e seu sobrenome. Essas são separadas por um ou mais espaços em branco. A expressão deve retornar o nome no formato: \"SOBRENOME, N.\"\n",
        "\n",
        "Exemplo:\n",
        "```\n",
        "nome = 'Dennis   ritchie'\n",
        "```\n",
        "\n",
        "Retorno:\n",
        "```\n",
        "RITCHIE, D.\n",
        "```\n",
        "\n",
        "A seguir escreva um comprehension que percorra uma lista contendo nomes e gere uma nova lista com os nomes no formato \"SOBRENOME, N.\"\n",
        "\n",
        "Exemplo:\n",
        "```\n",
        "nomes = ['Dennis   ritchie', 'ALAN  Turing', 'betty Holberton']\n",
        "```\n",
        "\n",
        "Retorno:\n",
        "```\n",
        "['RITCHIE, D.', 'TURING, A.', 'HOLBERTON, B.']\n",
        "```\n"
      ]
    },
    {
      "cell_type": "code",
      "execution_count": null,
      "metadata": {
        "id": "p9eyasuV-eqn"
      },
      "outputs": [],
      "source": [
        ""
      ]
    }
  ],
  "metadata": {
    "kernelspec": {
      "display_name": "Python 3",
      "language": "python",
      "name": "python3"
    },
    "language_info": {
      "codemirror_mode": {
        "name": "ipython",
        "version": 3
      },
      "file_extension": ".py",
      "mimetype": "text/x-python",
      "name": "python",
      "nbconvert_exporter": "python",
      "pygments_lexer": "ipython3",
      "version": "3.9.5"
    },
    "toc": {
      "base_numbering": 1,
      "nav_menu": {},
      "number_sections": true,
      "sideBar": true,
      "skip_h1_title": false,
      "title_cell": "Table of Contents",
      "title_sidebar": "Contents",
      "toc_cell": false,
      "toc_position": {},
      "toc_section_display": true,
      "toc_window_display": false
    },
    "colab": {
      "name": "11.ipynb",
      "provenance": [],
      "include_colab_link": true
    }
  },
  "nbformat": 4,
  "nbformat_minor": 0
}